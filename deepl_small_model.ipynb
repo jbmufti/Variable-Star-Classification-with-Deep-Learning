{
  "cells": [
    {
      "cell_type": "code",
      "execution_count": null,
      "id": "d9a16fa2-83b0-4d9e-a5da-13f65283ebd9",
      "metadata": {
        "id": "d9a16fa2-83b0-4d9e-a5da-13f65283ebd9"
      },
      "outputs": [],
      "source": [
        "import sys, os\n",
        "from os.path import join, abspath, exists, pardir\n",
        "import numpy as np\n",
        "import matplotlib.pyplot as plt\n",
        "import pandas as pd\n",
        "from numpy import array as a\n",
        "from astropy.table import Table"
      ]
    },
    {
      "cell_type": "markdown",
      "id": "ef797bd8-5718-423b-a420-c106d414e43e",
      "metadata": {
        "id": "ef797bd8-5718-423b-a420-c106d414e43e"
      },
      "source": [
        "# Train-Validation Split"
      ]
    },
    {
      "cell_type": "markdown",
      "id": "0eb9717c-05b0-438a-81ef-ffecec045818",
      "metadata": {
        "id": "0eb9717c-05b0-438a-81ef-ffecec045818"
      },
      "source": [
        "# Model-building"
      ]
    },
    {
      "cell_type": "code",
      "execution_count": null,
      "id": "6cb20c0b-2c5e-42dd-9fea-428edb2f6566",
      "metadata": {
        "id": "6cb20c0b-2c5e-42dd-9fea-428edb2f6566"
      },
      "outputs": [],
      "source": [
        "import tensorflow as tf\n",
        "from tensorflow.keras.layers import Input, Dense, Add, Dropout, BatchNormalization, LeakyReLU\n",
        "from tensorflow.keras.initializers import HeNormal\n",
        "from tensorflow.keras.models import Model\n",
        "import tensorflow_decision_forests as tfdf"
      ]
    },
    {
      "cell_type": "code",
      "source": [
        "train_path = \"drive/MyDrive/deepl_data_4_23_25/train.csv\"\n",
        "test_path = \"drive/MyDrive/deepl_data_4_23_25/test.csv\"\n",
        "valid_path = \"drive/MyDrive/deepl_data_4_23_25/validation.csv\"\n",
        "\n",
        "from google.colab import drive\n",
        "drive.mount('/content/drive')"
      ],
      "metadata": {
        "colab": {
          "base_uri": "https://localhost:8080/"
        },
        "id": "e_ZwvpypIBUr",
        "outputId": "25d9efbe-f389-4eb0-a27d-46b891564b24"
      },
      "id": "e_ZwvpypIBUr",
      "execution_count": null,
      "outputs": [
        {
          "output_type": "stream",
          "name": "stdout",
          "text": [
            "Drive already mounted at /content/drive; to attempt to forcibly remount, call drive.mount(\"/content/drive\", force_remount=True).\n"
          ]
        }
      ]
    },
    {
      "cell_type": "code",
      "execution_count": null,
      "id": "0a1a286d-3271-4c8c-8f7c-03df62762eba",
      "metadata": {
        "id": "0a1a286d-3271-4c8c-8f7c-03df62762eba",
        "outputId": "c6c68d7e-3834-4bbb-884a-5fbe325c5d01",
        "colab": {
          "base_uri": "https://localhost:8080/"
        }
      },
      "outputs": [
        {
          "output_type": "execute_result",
          "data": {
            "text/plain": [
              "(array([[ 9.35161206e-01,  2.61833905e-01,  9.61157622e-01, ...,\n",
              "          3.50232700e-02,  3.37723737e+00,  0.00000000e+00],\n",
              "        [-7.52267249e-01, -3.60728512e-01,  8.93852049e-01, ...,\n",
              "          1.89388173e-02,  1.80705140e+00,  0.00000000e+00],\n",
              "        [ 3.21781227e-01, -6.83437434e-02,  1.37514912e+00, ...,\n",
              "          2.25800082e-02,  2.14005280e+00,  0.00000000e+00],\n",
              "        ...,\n",
              "        [ 4.02907849e-01,  2.93348403e-02,  6.33440045e+00, ...,\n",
              "          4.23501207e-02,  2.56877417e+00,  8.00000000e+00],\n",
              "        [ 3.48951656e-01,  5.16929702e-02,  6.41087320e+00, ...,\n",
              "          1.61728537e-01,  5.68219267e+00,  8.00000000e+00],\n",
              "        [ 6.47109284e-03, -2.81227238e-01,  7.73630346e+00, ...,\n",
              "          8.05316030e-02,  3.01955420e+00,  8.00000000e+00]]),\n",
              " array([[1., 0., 0., ..., 0., 0., 0.],\n",
              "        [1., 0., 0., ..., 0., 0., 0.],\n",
              "        [1., 0., 0., ..., 0., 0., 0.],\n",
              "        ...,\n",
              "        [0., 0., 0., ..., 0., 0., 1.],\n",
              "        [0., 0., 0., ..., 0., 0., 1.],\n",
              "        [0., 0., 0., ..., 0., 0., 1.]]))"
            ]
          },
          "metadata": {},
          "execution_count": 11
        }
      ],
      "source": [
        "from tensorflow.keras.utils import to_categorical\n",
        "training_data = Table.read(train_path)\n",
        "\n",
        "classes = np.unique(training_data[\"class\"])\n",
        "class_d = dict(zip(classes,np.arange(len(classes))))\n",
        "def class_to_num(c): return class_d[c]\n",
        "f = np.vectorize(class_to_num)\n",
        "\n",
        "training_data[\"class_id\"] = f(training_data[\"class\"])\n",
        "\n",
        "x_train = np.stack([a(training_data[col].astype(float)) for col in ([c for c in training_data.colnames if c not in [\"ID\",\"class\"]])]).T\n",
        "\n",
        "nb_classes = len(classes)\n",
        "\n",
        "y_train = to_categorical(a(training_data[\"class_id\"]), nb_classes)\n",
        "\n",
        "x_train, y_train"
      ]
    },
    {
      "cell_type": "code",
      "source": [
        "valid_data = Table.read(valid_path)\n",
        "valid_data[\"class_id\"] = f(valid_data[\"class\"])\n",
        "\n",
        "x_valid = np.stack([a(valid_data[col].astype(float)) for col in ([c for c in valid_data.colnames if c not in [\"ID\",\"class\"]])]).T\n",
        "y_valid = to_categorical(a(valid_data[\"class_id\"]), nb_classes)"
      ],
      "metadata": {
        "id": "ZNKNr1Z6K2DJ"
      },
      "id": "ZNKNr1Z6K2DJ",
      "execution_count": null,
      "outputs": []
    },
    {
      "cell_type": "code",
      "source": [
        "test_data = Table.read(test_path)\n",
        "test_data[\"class_id\"] = f(test_data[\"class\"])\n",
        "\n",
        "x_test = np.stack([a(test_data[col].astype(float)) for col in ([c for c in test_data.colnames if c not in [\"ID\",\"class\"]])]).T\n",
        "y_test = to_categorical(a(test_data[\"class_id\"]), nb_classes)"
      ],
      "metadata": {
        "id": "PfpEy_6eL0i1"
      },
      "id": "PfpEy_6eL0i1",
      "execution_count": null,
      "outputs": []
    },
    {
      "cell_type": "code",
      "source": [
        "for c in range(x_train.shape[1]):\n",
        "    mean, std = np.mean(x_train[:,c]), np.std(x_train[:,c])\n",
        "    x_train[:,c] = (x_train[:,c]-mean) / std\n",
        "    x_valid[:,c] = (x_valid[:,c]-mean) / std\n",
        "    x_test[:,c] = (x_test[:,c]-mean) / std"
      ],
      "metadata": {
        "id": "kW-zf7WWL33w"
      },
      "id": "kW-zf7WWL33w",
      "execution_count": null,
      "outputs": []
    },
    {
      "cell_type": "code",
      "source": [
        "train_df = training_data.to_pandas()\n",
        "del train_df[\"ID\"]\n",
        "del train_df[\"class\"]\n",
        "\n",
        "train_ds = tfdf.keras.pd_dataframe_to_tf_dataset(train_df, label=\"class_id\")\n",
        "#test_ds = tfdf.keras.pd_dataframe_to_tf_dataset(test_df_pd, label=label)"
      ],
      "metadata": {
        "id": "nRLsiXO7Nolo"
      },
      "id": "nRLsiXO7Nolo",
      "execution_count": null,
      "outputs": []
    },
    {
      "cell_type": "code",
      "source": [
        "model = tfdf.keras.RandomForestModel(verbose=2)"
      ],
      "metadata": {
        "colab": {
          "base_uri": "https://localhost:8080/"
        },
        "id": "OFbDAtYkL6_z",
        "outputId": "f0eef92b-8877-4732-d997-f4fb57a2ed8b"
      },
      "id": "OFbDAtYkL6_z",
      "execution_count": null,
      "outputs": [
        {
          "output_type": "stream",
          "name": "stdout",
          "text": [
            "Use 2 thread(s) for training\n",
            "Use /tmp/tmpw1q8_h53 as temporary training directory\n"
          ]
        }
      ]
    },
    {
      "cell_type": "code",
      "source": [
        "model.fit(train_ds)"
      ],
      "metadata": {
        "colab": {
          "base_uri": "https://localhost:8080/"
        },
        "id": "uptdWRkAM16v",
        "outputId": "57ed5b59-7d2d-403e-80b9-a995dcb7d200"
      },
      "id": "uptdWRkAM16v",
      "execution_count": null,
      "outputs": [
        {
          "output_type": "stream",
          "name": "stdout",
          "text": [
            "Reading training dataset...\n",
            "Training tensor examples:\n",
            "Features: {'mode_5': <tf.Tensor 'data:0' shape=(None,) dtype=float64>, 'mode_10': <tf.Tensor 'data_1:0' shape=(None,) dtype=float64>, 'acf_timescale': <tf.Tensor 'data_2:0' shape=(None,) dtype=float64>, 'acf_first_min': <tf.Tensor 'data_3:0' shape=(None,) dtype=float64>, 'ami2': <tf.Tensor 'data_4:0' shape=(None,) dtype=float64>, 'trev': <tf.Tensor 'data_5:0' shape=(None,) dtype=float64>, 'high_fluctuation': <tf.Tensor 'data_6:0' shape=(None,) dtype=float64>, 'stretch_high': <tf.Tensor 'data_7:0' shape=(None,) dtype=float64>, 'transition_matrix': <tf.Tensor 'data_8:0' shape=(None,) dtype=float64>, 'periodicity': <tf.Tensor 'data_9:0' shape=(None,) dtype=float64>, 'embedding_dist': <tf.Tensor 'data_10:0' shape=(None,) dtype=float64>, 'ami_timescale': <tf.Tensor 'data_11:0' shape=(None,) dtype=float64>, 'whiten_timescale': <tf.Tensor 'data_12:0' shape=(None,) dtype=float64>, 'outlier_timing_pos': <tf.Tensor 'data_13:0' shape=(None,) dtype=float64>, 'outlier_timing_neg': <tf.Tensor 'data_14:0' shape=(None,) dtype=float64>, 'centroid_freq': <tf.Tensor 'data_15:0' shape=(None,) dtype=float64>, 'stretch_decreasing': <tf.Tensor 'data_16:0' shape=(None,) dtype=float64>, 'entropy_pairs': <tf.Tensor 'data_17:0' shape=(None,) dtype=float64>, 'rs_range': <tf.Tensor 'data_18:0' shape=(None,) dtype=float64>, 'dfa': <tf.Tensor 'data_19:0' shape=(None,) dtype=float64>, 'low_freq_power': <tf.Tensor 'data_20:0' shape=(None,) dtype=float64>, 'forecast_error': <tf.Tensor 'data_21:0' shape=(None,) dtype=float64>, 'std': <tf.Tensor 'data_22:0' shape=(None,) dtype=float64>, 'mean': <tf.Tensor 'data_23:0' shape=(None,) dtype=float64>}\n",
            "Label: Tensor(\"data_24:0\", shape=(None,), dtype=int64)\n",
            "Weights: None\n",
            "Normalized tensor features:\n",
            " {'mode_5': SemanticTensor(semantic=<Semantic.NUMERICAL: 1>, tensor=<tf.Tensor 'Cast:0' shape=(None,) dtype=float32>), 'mode_10': SemanticTensor(semantic=<Semantic.NUMERICAL: 1>, tensor=<tf.Tensor 'Cast_1:0' shape=(None,) dtype=float32>), 'acf_timescale': SemanticTensor(semantic=<Semantic.NUMERICAL: 1>, tensor=<tf.Tensor 'Cast_2:0' shape=(None,) dtype=float32>), 'acf_first_min': SemanticTensor(semantic=<Semantic.NUMERICAL: 1>, tensor=<tf.Tensor 'Cast_3:0' shape=(None,) dtype=float32>), 'ami2': SemanticTensor(semantic=<Semantic.NUMERICAL: 1>, tensor=<tf.Tensor 'Cast_4:0' shape=(None,) dtype=float32>), 'trev': SemanticTensor(semantic=<Semantic.NUMERICAL: 1>, tensor=<tf.Tensor 'Cast_5:0' shape=(None,) dtype=float32>), 'high_fluctuation': SemanticTensor(semantic=<Semantic.NUMERICAL: 1>, tensor=<tf.Tensor 'Cast_6:0' shape=(None,) dtype=float32>), 'stretch_high': SemanticTensor(semantic=<Semantic.NUMERICAL: 1>, tensor=<tf.Tensor 'Cast_7:0' shape=(None,) dtype=float32>), 'transition_matrix': SemanticTensor(semantic=<Semantic.NUMERICAL: 1>, tensor=<tf.Tensor 'Cast_8:0' shape=(None,) dtype=float32>), 'periodicity': SemanticTensor(semantic=<Semantic.NUMERICAL: 1>, tensor=<tf.Tensor 'Cast_9:0' shape=(None,) dtype=float32>), 'embedding_dist': SemanticTensor(semantic=<Semantic.NUMERICAL: 1>, tensor=<tf.Tensor 'Cast_10:0' shape=(None,) dtype=float32>), 'ami_timescale': SemanticTensor(semantic=<Semantic.NUMERICAL: 1>, tensor=<tf.Tensor 'Cast_11:0' shape=(None,) dtype=float32>), 'whiten_timescale': SemanticTensor(semantic=<Semantic.NUMERICAL: 1>, tensor=<tf.Tensor 'Cast_12:0' shape=(None,) dtype=float32>), 'outlier_timing_pos': SemanticTensor(semantic=<Semantic.NUMERICAL: 1>, tensor=<tf.Tensor 'Cast_13:0' shape=(None,) dtype=float32>), 'outlier_timing_neg': SemanticTensor(semantic=<Semantic.NUMERICAL: 1>, tensor=<tf.Tensor 'Cast_14:0' shape=(None,) dtype=float32>), 'centroid_freq': SemanticTensor(semantic=<Semantic.NUMERICAL: 1>, tensor=<tf.Tensor 'Cast_15:0' shape=(None,) dtype=float32>), 'stretch_decreasing': SemanticTensor(semantic=<Semantic.NUMERICAL: 1>, tensor=<tf.Tensor 'Cast_16:0' shape=(None,) dtype=float32>), 'entropy_pairs': SemanticTensor(semantic=<Semantic.NUMERICAL: 1>, tensor=<tf.Tensor 'Cast_17:0' shape=(None,) dtype=float32>), 'rs_range': SemanticTensor(semantic=<Semantic.NUMERICAL: 1>, tensor=<tf.Tensor 'Cast_18:0' shape=(None,) dtype=float32>), 'dfa': SemanticTensor(semantic=<Semantic.NUMERICAL: 1>, tensor=<tf.Tensor 'Cast_19:0' shape=(None,) dtype=float32>), 'low_freq_power': SemanticTensor(semantic=<Semantic.NUMERICAL: 1>, tensor=<tf.Tensor 'Cast_20:0' shape=(None,) dtype=float32>), 'forecast_error': SemanticTensor(semantic=<Semantic.NUMERICAL: 1>, tensor=<tf.Tensor 'Cast_21:0' shape=(None,) dtype=float32>), 'std': SemanticTensor(semantic=<Semantic.NUMERICAL: 1>, tensor=<tf.Tensor 'Cast_22:0' shape=(None,) dtype=float32>), 'mean': SemanticTensor(semantic=<Semantic.NUMERICAL: 1>, tensor=<tf.Tensor 'Cast_23:0' shape=(None,) dtype=float32>)}\n",
            "Training dataset read in 0:00:01.285622. Found 44450 examples.\n",
            "Training model...\n",
            "Standard output detected as not visible to the user e.g. running in a notebook. Creating a training log redirection. If training gets stuck, try calling tfdf.keras.set_training_logs_redirection(False).\n"
          ]
        },
        {
          "output_type": "stream",
          "name": "stderr",
          "text": [
            "2025-04-23 15:30:51.022299: I tensorflow_decision_forests/tensorflow/ops/inference/kernel.cc:1206] Loading model from path /tmp/tmpw1q8_h53/model/ with prefix 5a1293e28de4467e\n",
            "I0000 00:00:1745422257.296554     308 decision_forest.cc:761] Model loaded with 300 root(s), 1930012 node(s), and 24 input feature(s).\n",
            "I0000 00:00:1745422257.296637     308 abstract_model.cc:1404] Engine \"RandomForestGeneric\" built\n",
            "2025-04-23 15:30:57.296683: I tensorflow_decision_forests/tensorflow/ops/inference/kernel.cc:1035] Use fast generic engine\n"
          ]
        },
        {
          "output_type": "stream",
          "name": "stdout",
          "text": [
            "Model trained in 0:02:25.208487\n",
            "Compiling model...\n",
            "Model compiled.\n"
          ]
        },
        {
          "output_type": "execute_result",
          "data": {
            "text/plain": [
              "<tf_keras.src.callbacks.History at 0x7a6ba8493ed0>"
            ]
          },
          "metadata": {},
          "execution_count": 29
        }
      ]
    },
    {
      "cell_type": "code",
      "source": [
        "test_df = test_data.to_pandas()\n",
        "del test_df[\"ID\"]\n",
        "del test_df[\"class\"]\n",
        "\n",
        "test_ds = tfdf.keras.pd_dataframe_to_tf_dataset(test_df, label=\"class_id\")"
      ],
      "metadata": {
        "id": "IOpnZQ69PzO3"
      },
      "id": "IOpnZQ69PzO3",
      "execution_count": null,
      "outputs": []
    },
    {
      "cell_type": "code",
      "source": [
        "model.compile(metrics=[\"accuracy\"])\n",
        "model.evaluate(test_ds, return_dict=True)"
      ],
      "metadata": {
        "colab": {
          "base_uri": "https://localhost:8080/"
        },
        "id": "N6Xurqu8Prdf",
        "outputId": "91221f72-3370-4f6e-e20b-1383303ceb28"
      },
      "id": "N6Xurqu8Prdf",
      "execution_count": null,
      "outputs": [
        {
          "output_type": "stream",
          "name": "stdout",
          "text": [
            "37/37 [==============================] - 12s 304ms/step - loss: 0.0000e+00 - accuracy: 0.6898\n"
          ]
        },
        {
          "output_type": "execute_result",
          "data": {
            "text/plain": [
              "{'loss': 0.0, 'accuracy': 0.6897933483123779}"
            ]
          },
          "metadata": {},
          "execution_count": 35
        }
      ]
    },
    {
      "cell_type": "code",
      "source": [
        "pred = model.predict(test_ds)\n",
        "pred.shape"
      ],
      "metadata": {
        "colab": {
          "base_uri": "https://localhost:8080/"
        },
        "id": "5PjyogjNTiHL",
        "outputId": "640bcf73-e40a-4433-b8da-7469986a0421"
      },
      "id": "5PjyogjNTiHL",
      "execution_count": null,
      "outputs": [
        {
          "output_type": "stream",
          "name": "stdout",
          "text": [
            "37/37 [==============================] - 10s 244ms/step\n"
          ]
        },
        {
          "output_type": "execute_result",
          "data": {
            "text/plain": [
              "(36927, 9)"
            ]
          },
          "metadata": {},
          "execution_count": 41
        }
      ]
    },
    {
      "cell_type": "code",
      "source": [
        "true=test_df[\"class_id\"].values\n",
        "true"
      ],
      "metadata": {
        "colab": {
          "base_uri": "https://localhost:8080/"
        },
        "id": "E8VhX59bT-VU",
        "outputId": "31717540-cae3-4d3e-8acb-0f06f3539cd1"
      },
      "id": "E8VhX59bT-VU",
      "execution_count": null,
      "outputs": [
        {
          "output_type": "execute_result",
          "data": {
            "text/plain": [
              "array([8, 2, 8, ..., 5, 5, 8])"
            ]
          },
          "metadata": {},
          "execution_count": 44
        }
      ]
    },
    {
      "cell_type": "code",
      "source": [
        "pred_idx = np.argmax(pred,axis=1)\n",
        "pred_idx"
      ],
      "metadata": {
        "colab": {
          "base_uri": "https://localhost:8080/"
        },
        "id": "DpGtw68qT2GS",
        "outputId": "5450033d-9d73-414e-d01b-ef412ace9c83"
      },
      "id": "DpGtw68qT2GS",
      "execution_count": null,
      "outputs": [
        {
          "output_type": "execute_result",
          "data": {
            "text/plain": [
              "array([8, 5, 8, ..., 5, 5, 8])"
            ]
          },
          "metadata": {},
          "execution_count": 42
        }
      ]
    },
    {
      "cell_type": "code",
      "source": [
        "from sklearn.metrics import confusion_matrix\n",
        "import seaborn as sns"
      ],
      "metadata": {
        "id": "utgXEbK9UKGm"
      },
      "id": "utgXEbK9UKGm",
      "execution_count": null,
      "outputs": []
    },
    {
      "cell_type": "code",
      "source": [
        "from sklearn.metrics import accuracy_score, precision_score, recall_score, f1_score"
      ],
      "metadata": {
        "id": "7jHzGr3OUm_u"
      },
      "id": "7jHzGr3OUm_u",
      "execution_count": null,
      "outputs": []
    },
    {
      "cell_type": "code",
      "source": [
        "print(\"Accuracy:\",accuracy_score(true,pred_idx))\n",
        "print(\"Precision:\",precision_score(true,pred_idx,average=\"macro\"))\n",
        "print(\"Recall:\",recall_score(true,pred_idx,average=\"macro\"))\n",
        "f1 = f1_score(true,pred_idx,average=\"macro\")\n",
        "print(\"F1:\",f1)"
      ],
      "metadata": {
        "colab": {
          "base_uri": "https://localhost:8080/"
        },
        "id": "uPgR4q66UoSM",
        "outputId": "759ebd92-a316-4fe2-d798-54a699c468af"
      },
      "id": "uPgR4q66UoSM",
      "execution_count": null,
      "outputs": [
        {
          "output_type": "stream",
          "name": "stdout",
          "text": [
            "Accuracy: 0.6897933761204539\n",
            "Precision: 0.6254629409581084\n",
            "Recall: 0.7228721473111164\n",
            "F1: 0.6452607669141184\n"
          ]
        }
      ]
    },
    {
      "cell_type": "code",
      "source": [
        "id_to_class = dict(zip(np.arange(len(classes)),classes))\n",
        "def formatter(x, pos):\n",
        "  return id_to_class[int(x+0.5)-1]"
      ],
      "metadata": {
        "id": "AC6RKz3xUfTM"
      },
      "id": "AC6RKz3xUfTM",
      "execution_count": null,
      "outputs": []
    },
    {
      "cell_type": "code",
      "source": [
        "conf = confusion_matrix(true,pred_idx)\n",
        "plt.figure(figsize=(7,6))\n",
        "plt.title(f\"Model Test Run (n={len(test_df)}, F1={f1:.4f})\")\n",
        "_=sns.heatmap(conf,annot=True,fmt='d')\n",
        "plt.gca().xaxis.set_major_formatter(formatter)\n",
        "plt.gca().yaxis.set_major_formatter(formatter)\n",
        "plt.savefig(\"/content/forest_confusion_matrix.png\",dpi=300,bbox_inches=\"tight\")"
      ],
      "metadata": {
        "colab": {
          "base_uri": "https://localhost:8080/",
          "height": 545
        },
        "id": "Yqk7xjwJURzI",
        "outputId": "57e677cf-579a-453b-88d7-c95179ee38ce"
      },
      "id": "Yqk7xjwJURzI",
      "execution_count": null,
      "outputs": [
        {
          "output_type": "display_data",
          "data": {
            "text/plain": [
              "<Figure size 700x600 with 2 Axes>"
            ],
            "image/png": "[encoded data removed]"
          },
          "metadata": {}
        }
      ]
    },
    {
      "cell_type": "code",
      "source": [
        "tfdf.model_plotter.plot_model_in_colab(model, tree_idx=0, max_depth=3)"
      ],
      "metadata": {
        "colab": {
          "base_uri": "https://localhost:8080/",
          "height": 404
        },
        "id": "ST-YI9STTLRG",
        "outputId": "8c81ad7b-ce28-4bad-b968-d6dde991aa0e"
      },
      "id": "ST-YI9STTLRG",
      "execution_count": null,
      "outputs": [
        {
          "output_type": "execute_result",
          "data": {
            "text/plain": [
              "<IPython.core.display.HTML object>"
            ],
            "text/html": [
              "\n",
              "<script src=\"https://d3js.org/d3.v6.min.js\"></script>\n",
              "<div id=\"tree_plot_355c11ff1f174c4abe52bc402cefb505\"></div>\n",
              "<script>\n",
              "/*\n",
              " * Copyright 2021 Google LLC.\n",
              " * Licensed under the Apache License, Version 2.0 (the \"License\");\n",
              " * you may not use this file except in compliance with the License.\n",
              " * You may obtain a copy of the License at\n",
              " *\n",
              " *     https://www.apache.org/licenses/LICENSE-2.0\n",
              " *\n",
              " * Unless required by applicable law or agreed to in writing, software\n",
              " * distributed under the License is distributed on an \"AS IS\" BASIS,\n",
              " * WITHOUT WARRANTIES OR CONDITIONS OF ANY KIND, either express or implied.\n",
              " * See the License for the specific language governing permissions and\n",
              " * limitations under the License.\n",
              " */\n",
              "\n",
              "/**\n",
              " *  Plotting of decision trees generated by TF-DF.\n",
              " *\n",
              " *  A tree is a recursive structure of node objects.\n",
              " *  A node contains one or more of the following components:\n",
              " *\n",
              " *    - A value: Representing the output of the node. If the node is not a leaf,\n",
              " *      the value is only present for analysis i.e. it is not used for\n",
              " *      predictions.\n",
              " *\n",
              " *    - A condition : For non-leaf nodes, the condition (also known as split)\n",
              " *      defines a binary test to branch to the positive or negative child.\n",
              " *\n",
              " *    - An explanation: Generally a plot showing the relation between the label\n",
              " *      and the condition to give insights about the effect of the condition.\n",
              " *\n",
              " *    - Two children : For non-leaf nodes, the children nodes. The first\n",
              " *      children (i.e. \"node.children[0]\") is the negative children (drawn in\n",
              " *      red). The second children is the positive one (drawn in green).\n",
              " *\n",
              " */\n",
              "\n",
              "/**\n",
              " * Plots a single decision tree into a DOM element.\n",
              " * @param {!options} options Dictionary of configurations.\n",
              " * @param {!tree} raw_tree Recursive tree structure.\n",
              " * @param {string} canvas_id Id of the output dom element.\n",
              " */\n",
              "function display_tree(options, raw_tree, canvas_id) {\n",
              "  console.log(options);\n",
              "\n",
              "  // Determine the node placement.\n",
              "  const tree_struct = d3.tree().nodeSize(\n",
              "      [options.node_y_offset, options.node_x_offset])(d3.hierarchy(raw_tree));\n",
              "\n",
              "  // Boundaries of the node placement.\n",
              "  let x_min = Infinity;\n",
              "  let x_max = -x_min;\n",
              "  let y_min = Infinity;\n",
              "  let y_max = -x_min;\n",
              "\n",
              "  tree_struct.each(d => {\n",
              "    if (d.x > x_max) x_max = d.x;\n",
              "    if (d.x < x_min) x_min = d.x;\n",
              "    if (d.y > y_max) y_max = d.y;\n",
              "    if (d.y < y_min) y_min = d.y;\n",
              "  });\n",
              "\n",
              "  // Size of the plot.\n",
              "  const width = y_max - y_min + options.node_x_size + options.margin * 2;\n",
              "  const height = x_max - x_min + options.node_y_size + options.margin * 2 +\n",
              "      options.node_y_offset - options.node_y_size;\n",
              "\n",
              "  const plot = d3.select(canvas_id);\n",
              "\n",
              "  // Tool tip\n",
              "  options.tooltip = plot.append('div')\n",
              "                        .attr('width', 100)\n",
              "                        .attr('height', 100)\n",
              "                        .style('padding', '4px')\n",
              "                        .style('background', '#fff')\n",
              "                        .style('box-shadow', '4px 4px 0px rgba(0,0,0,0.1)')\n",
              "                        .style('border', '1px solid black')\n",
              "                        .style('font-family', 'sans-serif')\n",
              "                        .style('font-size', options.font_size)\n",
              "                        .style('position', 'absolute')\n",
              "                        .style('z-index', '10')\n",
              "                        .attr('pointer-events', 'none')\n",
              "                        .style('display', 'none');\n",
              "\n",
              "  // Create canvas\n",
              "  const svg = plot.append('svg').attr('width', width).attr('height', height);\n",
              "  const graph =\n",
              "      svg.style('overflow', 'visible')\n",
              "          .append('g')\n",
              "          .attr('font-family', 'sans-serif')\n",
              "          .attr('font-size', options.font_size)\n",
              "          .attr(\n",
              "              'transform',\n",
              "              () => `translate(${options.margin},${\n",
              "                  - x_min + options.node_y_offset / 2 + options.margin})`);\n",
              "\n",
              "  // Plot bounding box.\n",
              "  if (options.show_plot_bounding_box) {\n",
              "    svg.append('rect')\n",
              "        .attr('width', width)\n",
              "        .attr('height', height)\n",
              "        .attr('fill', 'none')\n",
              "        .attr('stroke-width', 1.0)\n",
              "        .attr('stroke', 'black');\n",
              "  }\n",
              "\n",
              "  // Draw the edges.\n",
              "  display_edges(options, graph, tree_struct);\n",
              "\n",
              "  // Draw the nodes.\n",
              "  display_nodes(options, graph, tree_struct);\n",
              "}\n",
              "\n",
              "/**\n",
              " * Draw the nodes of the tree.\n",
              " * @param {!options} options Dictionary of configurations.\n",
              " * @param {!graph} graph D3 search handle containing the graph.\n",
              " * @param {!tree_struct} tree_struct Structure of the tree (node placement,\n",
              " *     data, etc.).\n",
              " */\n",
              "function display_nodes(options, graph, tree_struct) {\n",
              "  const nodes = graph.append('g')\n",
              "                    .selectAll('g')\n",
              "                    .data(tree_struct.descendants())\n",
              "                    .join('g')\n",
              "                    .attr('transform', d => `translate(${d.y},${d.x})`);\n",
              "\n",
              "  nodes.append('rect')\n",
              "      .attr('x', 0.5)\n",
              "      .attr('y', 0.5)\n",
              "      .attr('width', options.node_x_size)\n",
              "      .attr('height', options.node_y_size)\n",
              "      .attr('stroke', 'lightgrey')\n",
              "      .attr('stroke-width', 1)\n",
              "      .attr('fill', 'white')\n",
              "      .attr('y', -options.node_y_size / 2);\n",
              "\n",
              "  // Brackets on the right of condition nodes without children.\n",
              "  non_leaf_node_without_children =\n",
              "      nodes.filter(node => node.data.condition != null && node.children == null)\n",
              "          .append('g')\n",
              "          .attr('transform', `translate(${options.node_x_size},0)`);\n",
              "\n",
              "  non_leaf_node_without_children.append('path')\n",
              "      .attr('d', 'M0,0 C 10,0 0,10 10,10')\n",
              "      .attr('fill', 'none')\n",
              "      .attr('stroke-width', 1.0)\n",
              "      .attr('stroke', '#F00');\n",
              "\n",
              "  non_leaf_node_without_children.append('path')\n",
              "      .attr('d', 'M0,0 C 10,0 0,-10 10,-10')\n",
              "      .attr('fill', 'none')\n",
              "      .attr('stroke-width', 1.0)\n",
              "      .attr('stroke', '#0F0');\n",
              "\n",
              "  const node_content = nodes.append('g').attr(\n",
              "      'transform',\n",
              "      `translate(0,${options.node_padding - options.node_y_size / 2})`);\n",
              "\n",
              "  node_content.append(node => create_node_element(options, node));\n",
              "}\n",
              "\n",
              "/**\n",
              " * Creates the D3 content for a single node.\n",
              " * @param {!options} options Dictionary of configurations.\n",
              " * @param {!node} node Node to draw.\n",
              " * @return {!d3} D3 content.\n",
              " */\n",
              "function create_node_element(options, node) {\n",
              "  // Output accumulator.\n",
              "  let output = {\n",
              "    // Content to draw.\n",
              "    content: d3.create('svg:g'),\n",
              "    // Vertical offset to the next element to draw.\n",
              "    vertical_offset: 0\n",
              "  };\n",
              "\n",
              "  // Conditions.\n",
              "  if (node.data.condition != null) {\n",
              "    display_condition(options, node.data.condition, output);\n",
              "  }\n",
              "\n",
              "  // Values.\n",
              "  if (node.data.value != null) {\n",
              "    display_value(options, node.data.value, output);\n",
              "  }\n",
              "\n",
              "  // Explanations.\n",
              "  if (node.data.explanation != null) {\n",
              "    display_explanation(options, node.data.explanation, output);\n",
              "  }\n",
              "\n",
              "  return output.content.node();\n",
              "}\n",
              "\n",
              "\n",
              "/**\n",
              " * Adds a single line of text inside of a node.\n",
              " * @param {!options} options Dictionary of configurations.\n",
              " * @param {string} text Text to display.\n",
              " * @param {!output} output Output display accumulator.\n",
              " */\n",
              "function display_node_text(options, text, output) {\n",
              "  output.content.append('text')\n",
              "      .attr('x', options.node_padding)\n",
              "      .attr('y', output.vertical_offset)\n",
              "      .attr('alignment-baseline', 'hanging')\n",
              "      .text(text);\n",
              "  output.vertical_offset += 10;\n",
              "}\n",
              "\n",
              "/**\n",
              " * Adds a single line of text inside of a node with a tooltip.\n",
              " * @param {!options} options Dictionary of configurations.\n",
              " * @param {string} text Text to display.\n",
              " * @param {string} tooltip Text in the Tooltip.\n",
              " * @param {!output} output Output display accumulator.\n",
              " */\n",
              "function display_node_text_with_tooltip(options, text, tooltip, output) {\n",
              "  const item = output.content.append('text')\n",
              "                   .attr('x', options.node_padding)\n",
              "                   .attr('alignment-baseline', 'hanging')\n",
              "                   .text(text);\n",
              "\n",
              "  add_tooltip(options, item, () => tooltip);\n",
              "  output.vertical_offset += 10;\n",
              "}\n",
              "\n",
              "/**\n",
              " * Adds a tooltip to a dom element.\n",
              " * @param {!options} options Dictionary of configurations.\n",
              " * @param {!dom} target Dom element to equip with a tooltip.\n",
              " * @param {!func} get_content Generates the html content of the tooltip.\n",
              " */\n",
              "function add_tooltip(options, target, get_content) {\n",
              "  function show(d) {\n",
              "    options.tooltip.style('display', 'block');\n",
              "    options.tooltip.html(get_content());\n",
              "  }\n",
              "\n",
              "  function hide(d) {\n",
              "    options.tooltip.style('display', 'none');\n",
              "  }\n",
              "\n",
              "  function move(d) {\n",
              "    options.tooltip.style('display', 'block');\n",
              "    options.tooltip.style('left', (d.pageX + 5) + 'px');\n",
              "    options.tooltip.style('top', d.pageY + 'px');\n",
              "  }\n",
              "\n",
              "  target.on('mouseover', show);\n",
              "  target.on('mouseout', hide);\n",
              "  target.on('mousemove', move);\n",
              "}\n",
              "\n",
              "/**\n",
              " * Adds a condition inside of a node.\n",
              " * @param {!options} options Dictionary of configurations.\n",
              " * @param {!condition} condition Condition to display.\n",
              " * @param {!output} output Output display accumulator.\n",
              " */\n",
              "function display_condition(options, condition, output) {\n",
              "  threshold_format = d3.format('r');\n",
              "\n",
              "  if (condition.type === 'IS_MISSING') {\n",
              "    display_node_text(options, `${condition.attribute} is missing`, output);\n",
              "    return;\n",
              "  }\n",
              "\n",
              "  if (condition.type === 'IS_TRUE') {\n",
              "    display_node_text(options, `${condition.attribute} is true`, output);\n",
              "    return;\n",
              "  }\n",
              "\n",
              "  if (condition.type === 'NUMERICAL_IS_HIGHER_THAN') {\n",
              "    format = d3.format('r');\n",
              "    display_node_text(\n",
              "        options,\n",
              "        `${condition.attribute} >= ${threshold_format(condition.threshold)}`,\n",
              "        output);\n",
              "    return;\n",
              "  }\n",
              "\n",
              "  if (condition.type === 'CATEGORICAL_IS_IN') {\n",
              "    display_node_text_with_tooltip(\n",
              "        options, `${condition.attribute} in [...]`,\n",
              "        `${condition.attribute} in [${condition.mask}]`, output);\n",
              "    return;\n",
              "  }\n",
              "\n",
              "  if (condition.type === 'CATEGORICAL_SET_CONTAINS') {\n",
              "    display_node_text_with_tooltip(\n",
              "        options, `${condition.attribute} intersect [...]`,\n",
              "        `${condition.attribute} intersect [${condition.mask}]`, output);\n",
              "    return;\n",
              "  }\n",
              "\n",
              "  if (condition.type === 'NUMERICAL_SPARSE_OBLIQUE') {\n",
              "    display_node_text_with_tooltip(\n",
              "        options, `Sparse oblique split...`,\n",
              "        `[${condition.attributes}]*[${condition.weights}]>=${\n",
              "            threshold_format(condition.threshold)}`,\n",
              "        output);\n",
              "    return;\n",
              "  }\n",
              "\n",
              "  display_node_text(\n",
              "      options, `Non supported condition ${condition.type}`, output);\n",
              "}\n",
              "\n",
              "/**\n",
              " * Adds a value inside of a node.\n",
              " * @param {!options} options Dictionary of configurations.\n",
              " * @param {!value} value Value to display.\n",
              " * @param {!output} output Output display accumulator.\n",
              " */\n",
              "function display_value(options, value, output) {\n",
              "  if (value.type === 'PROBABILITY') {\n",
              "    const left_margin = 0;\n",
              "    const right_margin = 50;\n",
              "    const plot_width = options.node_x_size - options.node_padding * 2 -\n",
              "        left_margin - right_margin;\n",
              "\n",
              "    let cusum = Array.from(d3.cumsum(value.distribution));\n",
              "    cusum.unshift(0);\n",
              "    const distribution_plot = output.content.append('g').attr(\n",
              "        'transform', `translate(0,${output.vertical_offset + 0.5})`);\n",
              "\n",
              "    distribution_plot.selectAll('rect')\n",
              "        .data(value.distribution)\n",
              "        .join('rect')\n",
              "        .attr('height', 10)\n",
              "        .attr(\n",
              "            'x',\n",
              "            (d, i) =>\n",
              "                (cusum[i] * plot_width + left_margin + options.node_padding))\n",
              "        .attr('width', (d, i) => d * plot_width)\n",
              "        .style('fill', (d, i) => d3.schemeSet1[i]);\n",
              "\n",
              "    const num_examples =\n",
              "        output.content.append('g')\n",
              "            .attr('transform', `translate(0,${output.vertical_offset})`)\n",
              "            .append('text')\n",
              "            .attr('x', options.node_x_size - options.node_padding)\n",
              "            .attr('alignment-baseline', 'hanging')\n",
              "            .attr('text-anchor', 'end')\n",
              "            .text(`(${value.num_examples})`);\n",
              "\n",
              "    const distribution_details = d3.create('ul');\n",
              "    distribution_details.selectAll('li')\n",
              "        .data(value.distribution)\n",
              "        .join('li')\n",
              "        .append('span')\n",
              "        .text(\n",
              "            (d, i) =>\n",
              "                'class ' + i + ': ' + d3.format('.3%')(value.distribution[i]));\n",
              "\n",
              "    add_tooltip(options, distribution_plot, () => distribution_details.html());\n",
              "    add_tooltip(options, num_examples, () => 'Number of examples');\n",
              "\n",
              "    output.vertical_offset += 10;\n",
              "    return;\n",
              "  }\n",
              "\n",
              "  if (value.type === 'REGRESSION') {\n",
              "    display_node_text(\n",
              "        options,\n",
              "        'value: ' + d3.format('r')(value.value) + ` (` +\n",
              "            d3.format('.6')(value.num_examples) + `)`,\n",
              "        output);\n",
              "    return;\n",
              "  }\n",
              "\n",
              "  if (value.type === 'UPLIFT') {\n",
              "    display_node_text(\n",
              "        options,\n",
              "        'effect: ' + d3.format('r')(value.treatment_effect) + ` (` +\n",
              "            d3.format('.6')(value.num_examples) + `)`,\n",
              "        output);\n",
              "    return;\n",
              "  }\n",
              "\n",
              "  display_node_text(options, `Non supported value ${value.type}`, output);\n",
              "}\n",
              "\n",
              "/**\n",
              " * Adds an explanation inside of a node.\n",
              " * @param {!options} options Dictionary of configurations.\n",
              " * @param {!explanation} explanation Explanation to display.\n",
              " * @param {!output} output Output display accumulator.\n",
              " */\n",
              "function display_explanation(options, explanation, output) {\n",
              "  // Margin before the explanation.\n",
              "  output.vertical_offset += 10;\n",
              "\n",
              "  display_node_text(\n",
              "      options, `Non supported explanation ${explanation.type}`, output);\n",
              "}\n",
              "\n",
              "\n",
              "/**\n",
              " * Draw the edges of the tree.\n",
              " * @param {!options} options Dictionary of configurations.\n",
              " * @param {!graph} graph D3 search handle containing the graph.\n",
              " * @param {!tree_struct} tree_struct Structure of the tree (node placement,\n",
              " *     data, etc.).\n",
              " */\n",
              "function display_edges(options, graph, tree_struct) {\n",
              "  // Draw an edge between a parent and a child node with a bezier.\n",
              "  function draw_single_edge(d) {\n",
              "    return 'M' + (d.source.y + options.node_x_size) + ',' + d.source.x + ' C' +\n",
              "        (d.source.y + options.node_x_size + options.edge_rounding) + ',' +\n",
              "        d.source.x + ' ' + (d.target.y - options.edge_rounding) + ',' +\n",
              "        d.target.x + ' ' + d.target.y + ',' + d.target.x;\n",
              "  }\n",
              "\n",
              "  graph.append('g')\n",
              "      .attr('fill', 'none')\n",
              "      .attr('stroke-width', 1.2)\n",
              "      .selectAll('path')\n",
              "      .data(tree_struct.links())\n",
              "      .join('path')\n",
              "      .attr('d', draw_single_edge)\n",
              "      .attr(\n",
              "          'stroke', d => (d.target === d.source.children[0]) ? '#0F0' : '#F00');\n",
              "}\n",
              "\n",
              "display_tree({\"margin\": 10, \"node_x_size\": 160, \"node_y_size\": 28, \"node_x_offset\": 180, \"node_y_offset\": 33, \"font_size\": 10, \"edge_rounding\": 20, \"node_padding\": 2, \"show_plot_bounding_box\": false}, {\"value\": {\"type\": \"PROBABILITY\", \"distribution\": [0.11286839145106861, 0.11356580427446569, 0.11433070866141733, 0.11257592800899888, 0.10251968503937008, 0.11318335208098988, 0.11228346456692913, 0.10551181102362205, 0.11316085489313836], \"num_examples\": 44450.0}, \"condition\": {\"type\": \"NUMERICAL_IS_HIGHER_THAN\", \"attribute\": \"ami_timescale\", \"threshold\": 5.5}, \"children\": [{\"value\": {\"type\": \"PROBABILITY\", \"distribution\": [0.024541822563257022, 0.017502695161392606, 0.01585389054473968, 0.248842665990234, 0.27871139577652354, 0.10457226203310292, 0.013507514744118206, 0.020419811021624705, 0.2760479421650073], \"num_examples\": 15769.0}, \"condition\": {\"type\": \"NUMERICAL_IS_HIGHER_THAN\", \"attribute\": \"stretch_decreasing\", \"threshold\": 11.5}, \"children\": [{\"value\": {\"type\": \"PROBABILITY\", \"distribution\": [0.0007584787084191137, 0.0010835410120273053, 0.0005417705060136526, 0.22028388774515115, 0.4244230144110955, 0.05168490627370246, 0.001625311518040958, 0.0021670820240546106, 0.2974320078014953], \"num_examples\": 9229.0}, \"condition\": {\"type\": \"NUMERICAL_IS_HIGHER_THAN\", \"attribute\": \"dfa\", \"threshold\": 0.3147865831851959}, \"children\": [{\"value\": {\"type\": \"PROBABILITY\", \"distribution\": [0.0008707767328456984, 0.00034831069313827936, 0.00017415534656913968, 0.17328456983629398, 0.5691396725879484, 0.0219435736677116, 0.0013932427725531174, 0.0012190874259839777, 0.23162661093695577], \"num_examples\": 5742.0}, \"condition\": {\"type\": \"NUMERICAL_IS_HIGHER_THAN\", \"attribute\": \"dfa\", \"threshold\": 0.7766439914703369}}, {\"value\": {\"type\": \"PROBABILITY\", \"distribution\": [0.0005735589331803843, 0.002294235732721537, 0.0011471178663607685, 0.29767708632061946, 0.1861198738170347, 0.10065959277315745, 0.002007456266131345, 0.003728133065672498, 0.4057929452251219], \"num_examples\": 3487.0}, \"condition\": {\"type\": \"NUMERICAL_IS_HIGHER_THAN\", \"attribute\": \"acf_timescale\", \"threshold\": 11.48399543762207}}]}, {\"value\": {\"type\": \"PROBABILITY\", \"distribution\": [0.0581039755351682, 0.04067278287461774, 0.03746177370030581, 0.28914373088685014, 0.07308868501529052, 0.17920489296636086, 0.030275229357798167, 0.04617737003058104, 0.24587155963302754], \"num_examples\": 6540.0}, \"condition\": {\"type\": \"NUMERICAL_IS_HIGHER_THAN\", \"attribute\": \"centroid_freq\", \"threshold\": 0.7599557638168335}, \"children\": [{\"value\": {\"type\": \"PROBABILITY\", \"distribution\": [0.023250061835270838, 0.006925550333910463, 0.004452139500371012, 0.3400939896116745, 0.11402423942616868, 0.15780361117981698, 0.006678209250556517, 0.009151620084095969, 0.33762057877813506], \"num_examples\": 4043.0}, \"condition\": {\"type\": \"NUMERICAL_IS_HIGHER_THAN\", \"attribute\": \"ami2\", \"threshold\": 0.6191567778587341}}, {\"value\": {\"type\": \"PROBABILITY\", \"distribution\": [0.1145374449339207, 0.09531437725270324, 0.09090909090909091, 0.2066479775730877, 0.006808169803764518, 0.21385662795354426, 0.06848217861433721, 0.10612735282338806, 0.09731678013616339], \"num_examples\": 2497.0}, \"condition\": {\"type\": \"NUMERICAL_IS_HIGHER_THAN\", \"attribute\": \"acf_timescale\", \"threshold\": 2.548560619354248}}]}]}, {\"value\": {\"type\": \"PROBABILITY\", \"distribution\": [0.16143091245075136, 0.16638192531641155, 0.16847390258359193, 0.03765559080924654, 0.005648338621386981, 0.11791778529339982, 0.1665911230431296, 0.15229594505073044, 0.023604476831351764], \"num_examples\": 28681.0}, \"condition\": {\"type\": \"NUMERICAL_IS_HIGHER_THAN\", \"attribute\": \"low_freq_power\", \"threshold\": 0.5963350534439087}, \"children\": [{\"value\": {\"type\": \"PROBABILITY\", \"distribution\": [0.17682149175134734, 0.18476159131114495, 0.19019212572509978, 0.01851318550211873, 0.0003291232978154441, 0.07504011190192125, 0.18435018718887564, 0.16822314559591886, 0.001769037725758012], \"num_examples\": 24307.0}, \"condition\": {\"type\": \"NUMERICAL_IS_HIGHER_THAN\", \"attribute\": \"std\", \"threshold\": 0.0723101794719696}, \"children\": [{\"value\": {\"type\": \"PROBABILITY\", \"distribution\": [0.011842686699072028, 0.059213433495360145, 0.19690676093680953, 0.0038886433937251434, 0.0005302695536897924, 0.0027397260273972603, 0.3924878479893946, 0.3312417145382236, 0.0011489173663278833], \"num_examples\": 11315.0}, \"condition\": {\"type\": \"NUMERICAL_IS_HIGHER_THAN\", \"attribute\": \"stretch_high\", \"threshold\": 7.5}}, {\"value\": {\"type\": \"PROBABILITY\", \"distribution\": [0.3205049261083744, 0.29410406403940886, 0.1843442118226601, 0.03125, 0.0001539408866995074, 0.13800800492610837, 0.003078817733990148, 0.02624692118226601, 0.002309113300492611], \"num_examples\": 12992.0}, \"condition\": {\"type\": \"NUMERICAL_IS_HIGHER_THAN\", \"attribute\": \"acf_timescale\", \"threshold\": 0.781651496887207}}]}, {\"value\": {\"type\": \"PROBABILITY\", \"distribution\": [0.07590306355738455, 0.06424325560128029, 0.047782350251486055, 0.1440329218106996, 0.035208047553726564, 0.3561957018747142, 0.06790123456790123, 0.06378600823045268, 0.14494741655235482], \"num_examples\": 4374.0}, \"condition\": {\"type\": \"NUMERICAL_IS_HIGHER_THAN\", \"attribute\": \"whiten_timescale\", \"threshold\": 0.03785526752471924}, \"children\": [{\"value\": {\"type\": \"PROBABILITY\", \"distribution\": [0.050567260940032416, 0.07909238249594813, 0.0473257698541329, 0.1773095623987034, 0.04959481361426256, 0.2226904376012966, 0.0927066450567261, 0.08654781199351702, 0.19416531604538087], \"num_examples\": 3085.0}, \"condition\": {\"type\": \"NUMERICAL_IS_HIGHER_THAN\", \"attribute\": \"rs_range\", \"threshold\": 0.15732324123382568}}, {\"value\": {\"type\": \"PROBABILITY\", \"distribution\": [0.1365399534522886, 0.028704422032583398, 0.048875096974398756, 0.0643910007757952, 0.0007757951900698216, 0.6757176105508146, 0.008533747090768037, 0.009309542280837859, 0.027152831652443754], \"num_examples\": 1289.0}, \"condition\": {\"type\": \"NUMERICAL_IS_HIGHER_THAN\", \"attribute\": \"centroid_freq\", \"threshold\": 0.7473182678222656}}]}]}]}, \"#tree_plot_355c11ff1f174c4abe52bc402cefb505\")\n",
              "</script>\n"
            ]
          },
          "metadata": {},
          "execution_count": 39
        }
      ]
    },
    {
      "cell_type": "code",
      "execution_count": null,
      "id": "66d3e8e3-afdf-4410-a22d-57801d5a387c",
      "metadata": {
        "id": "66d3e8e3-afdf-4410-a22d-57801d5a387c",
        "outputId": "dfbdc51b-93b9-4da8-979c-003978f4aeef",
        "colab": {
          "base_uri": "https://localhost:8080/"
        }
      },
      "outputs": [
        {
          "output_type": "stream",
          "name": "stderr",
          "text": [
            "WARNING:absl:You are saving your model as an HDF5 file via `model.save()` or `keras.saving.save_model(model)`. This file format is considered legacy. We recommend using instead the native Keras format, e.g. `model.save('my_model.keras')` or `keras.saving.save_model(model, 'my_model.keras')`. \n"
          ]
        }
      ],
      "source": [
        "model.save(\"deepl_model_design.h5\")"
      ]
    },
    {
      "cell_type": "code",
      "source": [],
      "metadata": {
        "id": "F7_3rlxdmHnz"
      },
      "id": "F7_3rlxdmHnz",
      "execution_count": null,
      "outputs": []
    }
  ],
  "metadata": {
    "kernelspec": {
      "display_name": "Python 3 (ipykernel)",
      "language": "python",
      "name": "python3"
    },
    "language_info": {
      "codemirror_mode": {
        "name": "ipython",
        "version": 3
      },
      "file_extension": ".py",
      "mimetype": "text/x-python",
      "name": "python",
      "nbconvert_exporter": "python",
      "pygments_lexer": "ipython3",
      "version": "3.12.3"
    },
    "colab": {
      "provenance": []
    }
  },
  "nbformat": 4,
  "nbformat_minor": 5
}